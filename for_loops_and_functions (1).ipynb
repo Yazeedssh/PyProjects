{
  "cells": [
    {
      "cell_type": "markdown",
      "id": "3906a89e",
      "metadata": {
        "id": "3906a89e"
      },
      "source": [
        "# For Loops\n",
        "looping through lists can be done using for loop"
      ]
    },
    {
      "cell_type": "code",
      "execution_count": null,
      "id": "b6df5176",
      "metadata": {
        "id": "b6df5176",
        "colab": {
          "base_uri": "https://localhost:8080/"
        },
        "outputId": "bc537b13-9fc4-4442-ac3e-3feefd4c4ba7"
      },
      "outputs": [
        {
          "output_type": "stream",
          "name": "stdout",
          "text": [
            "1\n",
            "2\n",
            "3\n",
            "4\n",
            "Intelligent\n",
            "Systems\n",
            "is\n",
            "fun\n"
          ]
        }
      ],
      "source": [
        "my_list = [1, 2, 3, 4, \"Intelligent\", \"Systems\",\"is\", \"fun\"]\n",
        "for item in my_list:\n",
        "    print(item)"
      ]
    },
    {
      "cell_type": "markdown",
      "id": "a018991e",
      "metadata": {
        "id": "a018991e"
      },
      "source": [
        "### `break`\n",
        "Stop the execution of the loop."
      ]
    },
    {
      "cell_type": "code",
      "execution_count": null,
      "id": "a6a6f5a3",
      "metadata": {
        "id": "a6a6f5a3",
        "colab": {
          "base_uri": "https://localhost:8080/"
        },
        "outputId": "7157408e-abce-4958-da83-f2409bbd4044"
      },
      "outputs": [
        {
          "output_type": "stream",
          "name": "stdout",
          "text": [
            "1\n",
            "2\n",
            "3\n",
            "4\n"
          ]
        }
      ],
      "source": [
        "for item in my_list:\n",
        "    if item == \"Intelligent\":\n",
        "        break\n",
        "    print(item)"
      ]
    },
    {
      "cell_type": "markdown",
      "id": "c4d39533",
      "metadata": {
        "id": "c4d39533"
      },
      "source": [
        "### `continue`\n",
        "Continue to the next item without executing the lines occuring after `continue` inside the loop. Copy the cell above but replace the break statement with `continue`"
      ]
    },
    {
      "cell_type": "code",
      "execution_count": null,
      "id": "7678b1ec",
      "metadata": {
        "id": "7678b1ec",
        "colab": {
          "base_uri": "https://localhost:8080/"
        },
        "outputId": "24591e3f-74cc-4c57-9027-77a4a239e2e9"
      },
      "outputs": [
        {
          "output_type": "stream",
          "name": "stdout",
          "text": [
            "1\n",
            "2\n",
            "3\n",
            "4\n",
            "Systems\n",
            "is\n",
            "fun\n"
          ]
        }
      ],
      "source": [
        "for item in my_list:\n",
        "    if item == \"Intelligent\":\n",
        "        continue\n",
        "    print(item)"
      ]
    },
    {
      "cell_type": "markdown",
      "id": "aca594ef",
      "metadata": {
        "id": "aca594ef"
      },
      "source": [
        "### `range()`"
      ]
    },
    {
      "cell_type": "code",
      "execution_count": null,
      "id": "535b742f",
      "metadata": {
        "id": "535b742f",
        "colab": {
          "base_uri": "https://localhost:8080/"
        },
        "outputId": "51faf074-0350-4fc2-e8e3-a829092ae88b"
      },
      "outputs": [
        {
          "output_type": "stream",
          "name": "stdout",
          "text": [
            "0\n",
            "1\n",
            "2\n",
            "3\n",
            "4\n"
          ]
        }
      ],
      "source": [
        "for i in range(5):\n",
        "    print(i)"
      ]
    },
    {
      "cell_type": "markdown",
      "id": "f6d5287a",
      "metadata": {
        "id": "f6d5287a"
      },
      "source": [
        "Can you set a sarting point and end point in range ? Can you also specify an interval between numbers?"
      ]
    },
    {
      "cell_type": "code",
      "execution_count": null,
      "id": "2ae200cf",
      "metadata": {
        "id": "2ae200cf",
        "colab": {
          "base_uri": "https://localhost:8080/"
        },
        "outputId": "dfb4fbad-7645-4ba3-b57e-b2acc911526f"
      },
      "outputs": [
        {
          "output_type": "stream",
          "name": "stdout",
          "text": [
            "10\n",
            "12\n",
            "14\n",
            "16\n",
            "18\n"
          ]
        }
      ],
      "source": [
        "for i in range(10,20,2):\n",
        "    print(i)"
      ]
    },
    {
      "cell_type": "markdown",
      "id": "63e1e844",
      "metadata": {
        "id": "63e1e844"
      },
      "source": [
        "### `enumerate()`\n",
        "In case you need to also know the index:"
      ]
    },
    {
      "cell_type": "code",
      "execution_count": null,
      "id": "be8da1b5",
      "metadata": {
        "id": "be8da1b5",
        "colab": {
          "base_uri": "https://localhost:8080/"
        },
        "outputId": "bc93d1db-b754-4975-866e-4a9f0655cffd"
      },
      "outputs": [
        {
          "output_type": "stream",
          "name": "stdout",
          "text": [
            "index: 0, value: 1\n",
            "index: 1, value: 2\n",
            "index: 2, value: 3\n",
            "index: 3, value: 4\n",
            "index: 4, value: Intelligent\n",
            "index: 5, value: Systems\n",
            "index: 6, value: is\n",
            "index: 7, value: fun\n"
          ]
        }
      ],
      "source": [
        "for i,val in enumerate(my_list):\n",
        "  print(f\"index: {i}, value: {val}\")"
      ]
    },
    {
      "cell_type": "markdown",
      "id": "b663a545",
      "metadata": {
        "id": "b663a545"
      },
      "source": [
        "# Functions"
      ]
    },
    {
      "cell_type": "code",
      "execution_count": null,
      "id": "0f701089",
      "metadata": {
        "id": "0f701089"
      },
      "outputs": [],
      "source": [
        "def function_one():\n",
        "    print(\"Hello world!\")"
      ]
    },
    {
      "cell_type": "code",
      "execution_count": null,
      "id": "dabd6616",
      "metadata": {
        "id": "dabd6616",
        "colab": {
          "base_uri": "https://localhost:8080/"
        },
        "outputId": "c920b406-f749-4022-d945-12d65670d3f9"
      },
      "outputs": [
        {
          "output_type": "stream",
          "name": "stdout",
          "text": [
            "Hello world!\n"
          ]
        }
      ],
      "source": [
        "function_one()"
      ]
    },
    {
      "cell_type": "markdown",
      "id": "08a6e1bf",
      "metadata": {
        "id": "08a6e1bf"
      },
      "source": [
        "## Arguments\n",
        "you can pass arguments to the function by writing them between the parentheses. introduce arguments name1 and name2 to the function below."
      ]
    },
    {
      "cell_type": "code",
      "execution_count": null,
      "id": "295e4f34",
      "metadata": {
        "id": "295e4f34"
      },
      "outputs": [],
      "source": [
        "def welcom_function(name1, name2):\n",
        "    print(f\"Hello {name1} {name2}!\")# I just removed \"and\" to let it make sense with my name!"
      ]
    },
    {
      "cell_type": "markdown",
      "id": "af5ddf96",
      "metadata": {
        "id": "af5ddf96"
      },
      "source": [
        "Call welcom_function() in the cell below"
      ]
    },
    {
      "cell_type": "code",
      "execution_count": null,
      "id": "f19021a6",
      "metadata": {
        "id": "f19021a6",
        "colab": {
          "base_uri": "https://localhost:8080/"
        },
        "outputId": "1fe0d932-3e60-4d89-b9ff-abcdc3704e44"
      },
      "outputs": [
        {
          "output_type": "stream",
          "name": "stdout",
          "text": [
            "Hello Yazeed Alshurify!\n"
          ]
        }
      ],
      "source": [
        "welcom_function(\"Yazeed\",\"Alshurify\")"
      ]
    },
    {
      "cell_type": "code",
      "execution_count": null,
      "id": "bed4a9c5",
      "metadata": {
        "id": "bed4a9c5"
      },
      "outputs": [],
      "source": [
        "# Function with return value\n",
        "def strip_and_lowercase(original):\n",
        "    modified = original.strip().lower()\n",
        "    return modified"
      ]
    },
    {
      "cell_type": "code",
      "execution_count": null,
      "id": "6a02d49b",
      "metadata": {
        "id": "6a02d49b",
        "colab": {
          "base_uri": "https://localhost:8080/"
        },
        "outputId": "977fe261-e747-4da6-e248-5d0674e72e3e"
      },
      "outputs": [
        {
          "output_type": "stream",
          "name": "stdout",
          "text": [
            "pretty: mixed case\n"
          ]
        }
      ],
      "source": [
        "uggly_string = \"                   MixED CaSe \"\n",
        "pretty = strip_and_lowercase(uggly_string)\n",
        "print(f\"pretty: {pretty}\")"
      ]
    },
    {
      "cell_type": "code",
      "execution_count": null,
      "id": "171d1b1e",
      "metadata": {
        "id": "171d1b1e",
        "colab": {
          "base_uri": "https://localhost:8080/"
        },
        "outputId": "297545ea-5d5c-4864-deda-240562bda03f"
      },
      "outputs": [
        {
          "output_type": "stream",
          "name": "stdout",
          "text": [
            "5\n",
            "11\n",
            "29\n"
          ]
        }
      ],
      "source": [
        "def calc(first, second, third):\n",
        "    return (first * second) - third\n",
        "\n",
        "\n",
        "print(calc(3, 2, 1))\n",
        "\n",
        "print(calc(first=6, second=2, third=1))\n",
        "\n",
        "# With keyword arguments you can mix the order\n",
        "print(calc(third=1, first=3, second=10))\n",
        "\n"
      ]
    },
    {
      "cell_type": "code",
      "execution_count": null,
      "id": "3972b630",
      "metadata": {
        "id": "3972b630"
      },
      "outputs": [],
      "source": []
    }
  ],
  "metadata": {
    "kernelspec": {
      "display_name": "Python 3 (ipykernel)",
      "language": "python",
      "name": "python3"
    },
    "language_info": {
      "codemirror_mode": {
        "name": "ipython",
        "version": 3
      },
      "file_extension": ".py",
      "mimetype": "text/x-python",
      "name": "python",
      "nbconvert_exporter": "python",
      "pygments_lexer": "ipython3",
      "version": "3.11.3"
    },
    "colab": {
      "provenance": []
    }
  },
  "nbformat": 4,
  "nbformat_minor": 5
}