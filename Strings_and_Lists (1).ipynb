{
  "cells": [
    {
      "cell_type": "markdown",
      "metadata": {
        "id": "0xh5r43NiLah"
      },
      "source": [
        "# Strings"
      ]
    },
    {
      "cell_type": "code",
      "execution_count": 1,
      "metadata": {
        "id": "nw6zfGEliLaj"
      },
      "outputs": [],
      "source": [
        "my_string = \"Python is my favorite programming language!\""
      ]
    },
    {
      "cell_type": "markdown",
      "source": [
        "Print variable ```my_string``` and its type."
      ],
      "metadata": {
        "id": "qVfxOxCDdoOY"
      }
    },
    {
      "cell_type": "code",
      "execution_count": 3,
      "metadata": {
        "id": "F7754ZEYiLaj",
        "colab": {
          "base_uri": "https://localhost:8080/"
        },
        "outputId": "96825538-6c5e-4ea5-b923-71a726f57e31"
      },
      "outputs": [
        {
          "output_type": "stream",
          "name": "stdout",
          "text": [
            "Python is my favorite programming language!\n"
          ]
        },
        {
          "output_type": "execute_result",
          "data": {
            "text/plain": [
              "str"
            ]
          },
          "metadata": {},
          "execution_count": 3
        }
      ],
      "source": [
        "## write your solution in this cell\n",
        "print(my_string)\n",
        "type(my_string)"
      ]
    },
    {
      "cell_type": "markdown",
      "source": [
        "Function ```len()``` can be used to determine the length of the variable (number of charachters in the string including spaces and punctuations)"
      ],
      "metadata": {
        "id": "MKkxEIJ4d-jS"
      }
    },
    {
      "cell_type": "code",
      "execution_count": 4,
      "metadata": {
        "id": "iufSRAdGiLak",
        "colab": {
          "base_uri": "https://localhost:8080/"
        },
        "outputId": "5c8d41cc-3bdb-458d-b959-2aad41db8a2e"
      },
      "outputs": [
        {
          "output_type": "execute_result",
          "data": {
            "text/plain": [
              "43"
            ]
          },
          "metadata": {},
          "execution_count": 4
        }
      ],
      "source": [
        "len(my_string)"
      ]
    },
    {
      "cell_type": "markdown",
      "metadata": {
        "id": "XytxlOe_iLal"
      },
      "source": [
        "## Formatted Strings (f-strings)\n",
        "\n",
        "This feature allows you to insert values to be interpolated inline surrounded by braces. To create a formatted string, put an f before the opening quote mark (this is why they’re called f-strings) of your string, e.g., f'{value}':"
      ]
    },
    {
      "cell_type": "code",
      "execution_count": 5,
      "metadata": {
        "id": "ax8PelkGiLal",
        "colab": {
          "base_uri": "https://localhost:8080/"
        },
        "outputId": "f736ddde-b4a1-48f8-dd7e-c63f9a275b2d"
      },
      "outputs": [
        {
          "output_type": "stream",
          "name": "stdout",
          "text": [
            "My name is John Doe, you can call me John.\n",
            "I'm 88 years old.\n"
          ]
        }
      ],
      "source": [
        "first_name = \"John\"\n",
        "last_name = \"Doe\"\n",
        "age = 88\n",
        "print(f\"My name is {first_name} {last_name}, you can call me {first_name}.\")\n",
        "print(f\"I'm {age} years old.\")"
      ]
    },
    {
      "cell_type": "markdown",
      "metadata": {
        "id": "LZDzOdaFiLam"
      },
      "source": [
        "##Escape Characters"
      ]
    },
    {
      "cell_type": "code",
      "execution_count": 6,
      "metadata": {
        "id": "7jY3qNHQiLan",
        "colab": {
          "base_uri": "https://localhost:8080/"
        },
        "outputId": "d0708025-14f7-48d4-b87e-4d138a75012d"
      },
      "outputs": [
        {
          "output_type": "stream",
          "name": "stdout",
          "text": [
            "First line\n",
            "Second line\n"
          ]
        }
      ],
      "source": [
        "two_lines = \"First line\\nSecond line\"\n",
        "print(two_lines)"
      ]
    },
    {
      "cell_type": "code",
      "execution_count": 7,
      "metadata": {
        "id": "O8K0gL6YiLan",
        "colab": {
          "base_uri": "https://localhost:8080/"
        },
        "outputId": "49cae1e5-55fe-4466-dbe9-2f279abab680"
      },
      "outputs": [
        {
          "output_type": "stream",
          "name": "stdout",
          "text": [
            "\tThis will be indented\n"
          ]
        }
      ],
      "source": [
        "indented = \"\\tThis will be indented\"\n",
        "print(indented)"
      ]
    },
    {
      "cell_type": "markdown",
      "metadata": {
        "id": "Lqjb0KR-iLak"
      },
      "source": [
        "## String Methods\n",
        "\n",
        "\n",
        "\n",
        "1.   ### `str.replace()`\n",
        "\n",
        "\n"
      ]
    },
    {
      "cell_type": "code",
      "execution_count": 8,
      "metadata": {
        "id": "ou9DkPNIiLal",
        "colab": {
          "base_uri": "https://localhost:8080/"
        },
        "outputId": "cdfaa82c-932f-4635-e49e-14c111eafe0a"
      },
      "outputs": [
        {
          "output_type": "stream",
          "name": "stdout",
          "text": [
            "Python is my favorite programming language!\n"
          ]
        }
      ],
      "source": [
        "my_string.replace(\"a\", \"?\")\n",
        "print(my_string)"
      ]
    },
    {
      "cell_type": "markdown",
      "metadata": {
        "id": "aZHte9xtiLal"
      },
      "source": [
        "This will not modify `my_string` because string is **IMMUTABLE** datatype in python. To replace some characters in `my_string` you can assigne the `my_string.replace()` to a new variable."
      ]
    },
    {
      "cell_type": "markdown",
      "metadata": {
        "id": "ERKaBUUyiLal"
      },
      "source": [
        "#### EXCERCISE\n",
        "replace the word \"Python\" with \"Java\" in `my_string`."
      ]
    },
    {
      "cell_type": "code",
      "source": [
        "## write your solution in this cell\n",
        "lang = 'Python'\n",
        "jlang = lang.replace(\"Python\",\"Java\")\n",
        "print(jlang)"
      ],
      "metadata": {
        "id": "s6wkq-MisneK",
        "colab": {
          "base_uri": "https://localhost:8080/"
        },
        "outputId": "798e5430-605e-45ab-c3a9-4bc6a9d88f73"
      },
      "execution_count": 10,
      "outputs": [
        {
          "output_type": "stream",
          "name": "stdout",
          "text": [
            "Java\n"
          ]
        }
      ]
    },
    {
      "cell_type": "code",
      "execution_count": 11,
      "metadata": {
        "id": "jwQ0OhV5iLal",
        "colab": {
          "base_uri": "https://localhost:8080/"
        },
        "outputId": "8a109ec6-8aae-4473-b1ac-b9641b63160b"
      },
      "outputs": [
        {
          "output_type": "stream",
          "name": "stdout",
          "text": [
            "Use =  age=88\n"
          ]
        }
      ],
      "source": [
        "print(f\"Use =  {age=}\")"
      ]
    },
    {
      "cell_type": "markdown",
      "metadata": {
        "id": "NSLSInE6iLal"
      },
      "source": [
        "\n",
        "2.   ### `str.join()`\n",
        "\n"
      ]
    },
    {
      "cell_type": "code",
      "execution_count": 12,
      "metadata": {
        "id": "DQoV7hPsiLal"
      },
      "outputs": [],
      "source": [
        "King = \"King\"\n",
        "Khalid = \"Khalid\"\n",
        "University = \"University\"\n",
        "university_name = \" \".join([King, Khalid, University])"
      ]
    },
    {
      "cell_type": "code",
      "execution_count": 13,
      "metadata": {
        "id": "2mFOoYPeiLal",
        "colab": {
          "base_uri": "https://localhost:8080/"
        },
        "outputId": "b17f9ccb-d44f-4368-a56b-738c5be65a2e"
      },
      "outputs": [
        {
          "output_type": "stream",
          "name": "stdout",
          "text": [
            "King Khalid University\n"
          ]
        }
      ],
      "source": [
        "print(university_name)"
      ]
    },
    {
      "cell_type": "markdown",
      "source": [
        "> #### EXCERCISE\n",
        "\n",
        "\n",
        "\n",
        "Try to find another way to concatenate strings. You can use the intternet to find the solution."
      ],
      "metadata": {
        "id": "ULAjCS86u2HW"
      }
    },
    {
      "cell_type": "code",
      "execution_count": 18,
      "metadata": {
        "id": "yUfJ4vrxiLam",
        "colab": {
          "base_uri": "https://localhost:8080/"
        },
        "outputId": "848b8df3-ec04-4a33-96a4-218e5fccb690"
      },
      "outputs": [
        {
          "output_type": "stream",
          "name": "stdout",
          "text": [
            "King Khaild University \n"
          ]
        }
      ],
      "source": [
        "## write your solution in this cell\n",
        "out = ''\n",
        "lest = ['King ','Khaild ','University ']\n",
        "for x in range(len(lest)):\n",
        "  for y in range(len(lest)):\n",
        "    if x + y == len(lest)-1:\n",
        "      out = lest[y] + out\n",
        "\n",
        "print(out)"
      ]
    },
    {
      "cell_type": "markdown",
      "metadata": {
        "id": "xFOcA1WAiLam"
      },
      "source": [
        "3. ### Character Case Alteration `str.upper(), str.lower(), str.title()`\n",
        "\n",
        "\n",
        "\n",
        "\n"
      ]
    },
    {
      "cell_type": "code",
      "execution_count": 19,
      "metadata": {
        "id": "7HrI_u2eiLam",
        "colab": {
          "base_uri": "https://localhost:8080/"
        },
        "outputId": "17a44c85-4b75-4159-b5eb-d6d57af43473"
      },
      "outputs": [
        {
          "output_type": "stream",
          "name": "stdout",
          "text": [
            "inTeLLigent SystemS\n"
          ]
        }
      ],
      "source": [
        "mixed_case = \"inTeLLigent SystemS\"\n",
        "print(mixed_case)"
      ]
    },
    {
      "cell_type": "markdown",
      "source": [
        "Use the three methods str.upper(), str.lower(), str.title() to print upper case, lower case, and title case of `mixed_case`."
      ],
      "metadata": {
        "id": "a4sg6wpewOq7"
      }
    },
    {
      "cell_type": "code",
      "execution_count": 29,
      "metadata": {
        "id": "ZBNnZKehiLam",
        "colab": {
          "base_uri": "https://localhost:8080/",
          "height": 35
        },
        "outputId": "73b0c68b-400e-46b4-adce-3432c64776e3"
      },
      "outputs": [
        {
          "output_type": "execute_result",
          "data": {
            "text/plain": [
              "'Intelligent Systems'"
            ],
            "application/vnd.google.colaboratory.intrinsic+json": {
              "type": "string"
            }
          },
          "metadata": {},
          "execution_count": 29
        }
      ],
      "source": [
        "# write your solution in this cell\n",
        "str.upper(mixed_case)# the output is \" INTELLIGENT SYSTEMS\"\n",
        "str.lower(mixed_case)# the output here is \"intelligent systems\"\n",
        "str.title(mixed_case)"
      ]
    },
    {
      "cell_type": "markdown",
      "metadata": {
        "id": "aIjgpCHYiLam"
      },
      "source": [
        "4. ### `str.strip()`"
      ]
    },
    {
      "cell_type": "code",
      "execution_count": 30,
      "metadata": {
        "id": "S00zy87GiLam",
        "colab": {
          "base_uri": "https://localhost:8080/"
        },
        "outputId": "646f7beb-1cec-4329-a25f-2a2362663efd"
      },
      "outputs": [
        {
          "output_type": "stream",
          "name": "stdout",
          "text": [
            "ugly:  \n",
            " \t Department of Computer Engineering \n",
            "stripped: Department of Computer Engineering\n"
          ]
        }
      ],
      "source": [
        "ugly_formatted = \" \\n \\t Department of Computer Engineering \"\n",
        "stripped = ugly_formatted.strip()\n",
        "\n",
        "print(f\"ugly: {ugly_formatted}\")\n",
        "print(f\"stripped: {stripped}\")"
      ]
    },
    {
      "cell_type": "markdown",
      "metadata": {
        "id": "bf-C5iOViLam"
      },
      "source": [
        "5. ### `str.split()`"
      ]
    },
    {
      "cell_type": "code",
      "execution_count": 31,
      "metadata": {
        "id": "zkFWwMyKiLam",
        "colab": {
          "base_uri": "https://localhost:8080/"
        },
        "outputId": "7ffe169a-39e8-44c9-806a-ed0b6b2179a4"
      },
      "outputs": [
        {
          "output_type": "stream",
          "name": "stdout",
          "text": [
            "<class 'str'>\n",
            "['three', 'different', 'words']\n"
          ]
        }
      ],
      "source": [
        "sentence = \"three different words\"\n",
        "print(type(sentence))\n",
        "\n",
        "words = sentence.split()\n",
        "\n",
        "print(words)"
      ]
    },
    {
      "cell_type": "code",
      "execution_count": 32,
      "metadata": {
        "id": "PGBYBpniiLam",
        "colab": {
          "base_uri": "https://localhost:8080/"
        },
        "outputId": "74fa66fc-d073-4c56-d1b0-09fc8bdafdb7"
      },
      "outputs": [
        {
          "output_type": "execute_result",
          "data": {
            "text/plain": [
              "list"
            ]
          },
          "metadata": {},
          "execution_count": 32
        }
      ],
      "source": [
        "type(words)"
      ]
    },
    {
      "cell_type": "markdown",
      "source": [
        "####EXCERCISE\n",
        "Can you use multiple methods at once ? In the next cell, try to use as many as methods as you can."
      ],
      "metadata": {
        "id": "kZmhyNRi6Eqv"
      }
    },
    {
      "cell_type": "code",
      "execution_count": 48,
      "metadata": {
        "id": "ZoqVUeU2iLam",
        "colab": {
          "base_uri": "https://localhost:8080/"
        },
        "outputId": "33214a64-2a8c-4ab6-c9bb-252478ba8e2c"
      },
      "outputs": [
        {
          "output_type": "stream",
          "name": "stdout",
          "text": [
            "Yazeed Alshurify\n",
            "['Yazeed', 'Alshurify']\n"
          ]
        }
      ],
      "source": [
        "my_name = \"\\t Yazeed Alshurify\"\n",
        "stripp = my_name.strip()\n",
        "splited = my_name.split()\n",
        "print(stripp)\n",
        "print(splited)"
      ]
    },
    {
      "cell_type": "markdown",
      "metadata": {
        "id": "HezNGO0R84SU"
      },
      "source": [
        "# Lists"
      ]
    },
    {
      "cell_type": "code",
      "execution_count": 50,
      "metadata": {
        "id": "f5W48EAY84SW",
        "colab": {
          "base_uri": "https://localhost:8080/"
        },
        "outputId": "148493ed-ac51-4971-dc34-15d7472f272a"
      },
      "outputs": [
        {
          "output_type": "stream",
          "name": "stdout",
          "text": [
            "<class 'list'>\n",
            "empty list: [], type: <class 'list'>\n"
          ]
        }
      ],
      "source": [
        "empty_list = []\n",
        "print(type(empty_list))\n",
        "print(f\"empty list: {empty_list}, type: {type(empty_list)}\")"
      ]
    },
    {
      "cell_type": "code",
      "execution_count": 51,
      "metadata": {
        "id": "cuhJPvPs84SX",
        "colab": {
          "base_uri": "https://localhost:8080/"
        },
        "outputId": "47a19957-a33d-40bf-c805-c8db10f00b6e"
      },
      "outputs": [
        {
          "output_type": "stream",
          "name": "stdout",
          "text": [
            "lengths: 4 and 6\n"
          ]
        }
      ],
      "source": [
        "ListOne = [1, 2, 6, 7]\n",
        "ListTwo = [0.2, 5, \"Python\", \"is\", \"still fun\", \"!\"]\n",
        "print(f\"lengths: {len(ListOne)} and {len(ListTwo)}\")"
      ]
    },
    {
      "cell_type": "markdown",
      "metadata": {
        "id": "csgYlNFP84SY"
      },
      "source": [
        "## Accessing values\n",
        "Use the index to print the first element in `my_list`"
      ]
    },
    {
      "cell_type": "code",
      "execution_count": 53,
      "metadata": {
        "id": "Ow7ETcyA84SY",
        "colab": {
          "base_uri": "https://localhost:8080/"
        },
        "outputId": "8ec169cb-a5c8-488e-b77d-9cbe7f20f834"
      },
      "outputs": [
        {
          "output_type": "stream",
          "name": "stdout",
          "text": [
            "cool\n"
          ]
        }
      ],
      "source": [
        "my_list = [\"Python\", \"is\", \"still\", \"cool\"]\n",
        "# Use the print function to print the first element\n",
        "print(my_list[3])\n"
      ]
    },
    {
      "cell_type": "markdown",
      "source": [
        "## Multi-dimensional lists"
      ],
      "metadata": {
        "id": "Xb7TffDkk4ck"
      }
    },
    {
      "cell_type": "code",
      "execution_count": 54,
      "metadata": {
        "id": "93yHAiwb84SY",
        "colab": {
          "base_uri": "https://localhost:8080/"
        },
        "outputId": "7a4b1135-7648-4874-e875-95224972a353"
      },
      "outputs": [
        {
          "output_type": "stream",
          "name": "stdout",
          "text": [
            "first coordinate: [12.0, 13.3]\n",
            "second element of first coordinate: 13.3\n"
          ]
        }
      ],
      "source": [
        "coordinates = [[12.0, 13.3], [0.6, 18.0], [88.0, 1.1]]  # two dimensional\n",
        "print(f\"first coordinate: {coordinates[0]}\")\n",
        "print(f\"second element of first coordinate: {coordinates[0][1]}\")"
      ]
    },
    {
      "cell_type": "markdown",
      "metadata": {
        "id": "-IcCzXR584SZ"
      },
      "source": [
        "## Updating values\n",
        "Since lists are mutable, **can you change the value at `my_list[0]` to something else ?**"
      ]
    },
    {
      "cell_type": "code",
      "execution_count": 55,
      "metadata": {
        "id": "LCz80H3t84SZ",
        "colab": {
          "base_uri": "https://localhost:8080/"
        },
        "outputId": "56bc60d2-0e34-4870-ac44-dc801b0e6664"
      },
      "outputs": [
        {
          "output_type": "stream",
          "name": "stdout",
          "text": [
            "['1', 1, 2, 3, 4, 5]\n"
          ]
        }
      ],
      "source": [
        "my_list = [0, 1, 2, 3, 4, 5]\n",
        "## modify my_list in the following line\n",
        "my_list[0] = '1'\n",
        "## print my_list to check if the list has changed\n",
        "print(my_list)"
      ]
    },
    {
      "cell_type": "code",
      "execution_count": 56,
      "metadata": {
        "id": "ap06Bzox84SZ",
        "colab": {
          "base_uri": "https://localhost:8080/"
        },
        "outputId": "d9023358-0e9a-4cbc-8fb6-d6990f96580f"
      },
      "outputs": [
        {
          "output_type": "stream",
          "name": "stdout",
          "text": [
            "[1, 2, 3, 4, 5]\n"
          ]
        }
      ],
      "source": [
        "# remove first value\n",
        "del my_list[0]\n",
        "print(my_list)"
      ]
    },
    {
      "cell_type": "markdown",
      "metadata": {
        "id": "aNZQfqLC84SZ"
      },
      "source": [
        "## Checking if a certain value is present in list"
      ]
    },
    {
      "cell_type": "code",
      "execution_count": 57,
      "metadata": {
        "id": "F0aoosW684SZ",
        "colab": {
          "base_uri": "https://localhost:8080/"
        },
        "outputId": "c07a1a8e-2fdc-41f9-81a9-76780e5567d4"
      },
      "outputs": [
        {
          "output_type": "stream",
          "name": "stdout",
          "text": [
            "Python is there!\n",
            "number 6 is not present\n"
          ]
        }
      ],
      "source": [
        "languages = [\"Java\", \"C++\", \"Go\", \"Python\", \"JavaScript\"]\n",
        "\n",
        "if \"Python\" in languages:\n",
        "    print(\"Python is there!\")\n",
        "\n",
        "if 6 not in [1, 2, 3, 7]:\n",
        "    print(\"number 6 is not present\")"
      ]
    },
    {
      "cell_type": "markdown",
      "source": [
        "> ### EXCERCISE\n",
        "Similar to the cell above, create a variable `temp = Python` and check if the variable `temp` is present in `languages` list"
      ],
      "metadata": {
        "id": "V_mP92haJ7QY"
      }
    },
    {
      "cell_type": "code",
      "source": [
        "temp = \"Python\"\n",
        "if temp in languages:\n",
        "  print(\"Python is there!\")"
      ],
      "metadata": {
        "id": "igaZ9jCGKyy-",
        "colab": {
          "base_uri": "https://localhost:8080/"
        },
        "outputId": "1f93a6bd-87dc-4ace-c79b-0e4074a613c2"
      },
      "execution_count": 58,
      "outputs": [
        {
          "output_type": "stream",
          "name": "stdout",
          "text": [
            "Python is there!\n"
          ]
        }
      ]
    },
    {
      "cell_type": "markdown",
      "metadata": {
        "id": "gKJP4H4m84SZ"
      },
      "source": [
        "## Lists are mutable"
      ]
    },
    {
      "cell_type": "code",
      "execution_count": 59,
      "metadata": {
        "id": "U0k4IqX484SZ",
        "colab": {
          "base_uri": "https://localhost:8080/"
        },
        "outputId": "0bd0fcdf-8e0d-4aa4-f454-a93f72394778"
      },
      "outputs": [
        {
          "output_type": "stream",
          "name": "stdout",
          "text": [
            "original: [1, 2, 3], modified: [1, 2, 3]\n"
          ]
        }
      ],
      "source": [
        "original = [1, 2, 3]\n",
        "modified = original\n",
        "print(f\"original: {original}, modified: {modified}\")"
      ]
    },
    {
      "cell_type": "code",
      "source": [
        "modified[0] = 99\n",
        "print(f\"original: {original}, modified: {modified}\")"
      ],
      "metadata": {
        "id": "Nz2H8UBdmqf2",
        "colab": {
          "base_uri": "https://localhost:8080/"
        },
        "outputId": "9bf9c510-a750-4a00-b962-6455b8b53e2a"
      },
      "execution_count": 60,
      "outputs": [
        {
          "output_type": "stream",
          "name": "stdout",
          "text": [
            "original: [99, 2, 3], modified: [99, 2, 3]\n"
          ]
        }
      ]
    },
    {
      "cell_type": "markdown",
      "metadata": {
        "id": "H8xwAMlP84SZ"
      },
      "source": [
        "## **Lab activity:**\n",
        "**You can solve this by copying the contents of `original` to `modified`.** Then, you can do whatever you like to `modified` without affecting `original`.\n",
        "\n",
        "Try to do this your self.\n"
      ]
    },
    {
      "cell_type": "code",
      "execution_count": 64,
      "metadata": {
        "id": "Vm9lakN284Sa",
        "colab": {
          "base_uri": "https://localhost:8080/"
        },
        "outputId": "8ec59c80-ea5c-4082-e5d8-895673a94676"
      },
      "outputs": [
        {
          "output_type": "stream",
          "name": "stdout",
          "text": [
            "original: [1, 2, 3], modified: [99, 2, 3]\n"
          ]
        }
      ],
      "source": [
        "## write your solution in the following lines\n",
        "original = [1, 2, 3]\n",
        "modified = [1, 2, 3]\n",
        "modified[0] = 99\n",
        "print(f\"original: {original}, modified: {modified}\")"
      ]
    },
    {
      "cell_type": "markdown",
      "source": [
        "## Lists Methods"
      ],
      "metadata": {
        "id": "3N9QnGWFPD5k"
      }
    },
    {
      "cell_type": "markdown",
      "metadata": {
        "id": "273g9Xac84Sa"
      },
      "source": [
        "1. ### `list.append()`"
      ]
    },
    {
      "cell_type": "code",
      "execution_count": 65,
      "metadata": {
        "id": "r9m4PeLf84Sa",
        "colab": {
          "base_uri": "https://localhost:8080/"
        },
        "outputId": "595e07d1-5a32-40f3-b22b-52012efe6ce5"
      },
      "outputs": [
        {
          "output_type": "stream",
          "name": "stdout",
          "text": [
            "[1, 'ham']\n"
          ]
        }
      ],
      "source": [
        "my_list = [1]\n",
        "my_list.append(\"ham\")\n",
        "print(my_list)"
      ]
    },
    {
      "cell_type": "markdown",
      "metadata": {
        "id": "G9Wj7UPQ84Sa"
      },
      "source": [
        "2. ### `list.remove()`"
      ]
    },
    {
      "cell_type": "code",
      "execution_count": 66,
      "metadata": {
        "id": "cicYwcxy84Sa",
        "colab": {
          "base_uri": "https://localhost:8080/"
        },
        "outputId": "d6b7be77-6120-486e-cae7-b78af1c95d06"
      },
      "outputs": [
        {
          "output_type": "stream",
          "name": "stdout",
          "text": [
            "['Python', 'is', 'fun']\n",
            "Java is not part of this story.\n"
          ]
        }
      ],
      "source": [
        "my_list = [\"Python\", \"is\", \"sometimes\", \"fun\"]\n",
        "my_list.remove(\"sometimes\")\n",
        "print(my_list)\n",
        "\n",
        "# If you are not sure that the value is in list, better to check first:\n",
        "if \"Java\" in my_list:\n",
        "    my_list.remove(\"Java\")\n",
        "else:\n",
        "    print(\"Java is not part of this story.\")"
      ]
    },
    {
      "cell_type": "markdown",
      "metadata": {
        "id": "xfBObzZo84Sa"
      },
      "source": [
        "3. ### `list.sort()`"
      ]
    },
    {
      "cell_type": "code",
      "execution_count": 67,
      "metadata": {
        "id": "7Bj3DkaF84Sa",
        "colab": {
          "base_uri": "https://localhost:8080/"
        },
        "outputId": "13eff437-a52d-4c39-d689-77432f7e0cb2"
      },
      "outputs": [
        {
          "output_type": "stream",
          "name": "stdout",
          "text": [
            "numbers: [1, 5, 6, 8, 10]\n",
            "numbers reversed: [10, 8, 6, 5, 1]\n",
            "words: ['a', 'is', 'list', 'of', 'this', 'words']\n"
          ]
        }
      ],
      "source": [
        "numbers = [8, 1, 6, 5, 10]\n",
        "numbers.sort()\n",
        "print(f\"numbers: {numbers}\")\n",
        "\n",
        "numbers.sort(reverse = True)\n",
        "print(f\"numbers reversed: {numbers}\")\n",
        "\n",
        "words = [\"this\", \"is\", \"a\", \"list\", \"of\", \"words\"]\n",
        "words.sort()\n",
        "print(f\"words: {words}\")"
      ]
    },
    {
      "cell_type": "markdown",
      "metadata": {
        "id": "9GAyWz4T84Sa"
      },
      "source": [
        "4. ### `sorted(list)`\n",
        "\n",
        "**Try to figure out the difference between the method `list.sort()` and the function `sorted(list)`**"
      ]
    },
    {
      "cell_type": "code",
      "execution_count": 69,
      "metadata": {
        "id": "aKbG3WdZ84Sa",
        "colab": {
          "base_uri": "https://localhost:8080/"
        },
        "outputId": "3c152761-36f0-4195-e3ce-147c7c9afd95"
      },
      "outputs": [
        {
          "output_type": "execute_result",
          "data": {
            "text/plain": [
              "[1, 5, 6, 8, 10]"
            ]
          },
          "metadata": {},
          "execution_count": 69
        }
      ],
      "source": [
        "numbers = [8, 1, 6, 5, 10]\n",
        "sorted(numbers)\n",
        "#Soretd list simply returns a new sorted copy of the list. While list.sort modify the existing list."
      ]
    },
    {
      "cell_type": "markdown",
      "metadata": {
        "id": "dDl8-2XA84Sa"
      },
      "source": [
        "5. ### `list.extend()`"
      ]
    },
    {
      "cell_type": "code",
      "execution_count": 70,
      "metadata": {
        "id": "2SMnDunW84Sa",
        "colab": {
          "base_uri": "https://localhost:8080/"
        },
        "outputId": "b976aa44-2373-4e6e-dab2-12cf74680e70"
      },
      "outputs": [
        {
          "output_type": "stream",
          "name": "stdout",
          "text": [
            "first_list=['beef', 'ham', 'potatoes', 1, 3], second_list=['potatoes', 1, 3]\n"
          ]
        }
      ],
      "source": [
        "first_list = [\"beef\", \"ham\"]\n",
        "second_list = [\"potatoes\", 1, 3]\n",
        "first_list.extend(second_list)\n",
        "print(f\"{first_list=}, {second_list=}\")"
      ]
    },
    {
      "cell_type": "markdown",
      "metadata": {
        "id": "CdozpMSW84Sa"
      },
      "source": [
        " Find an Alternative way to extend lists:"
      ]
    },
    {
      "cell_type": "code",
      "execution_count": 80,
      "metadata": {
        "id": "ezU6h78984Sa"
      },
      "outputs": [],
      "source": [
        "first = [1, 2, 3]\n",
        "second = [4, 5]\n",
        "second[:0] = first"
      ]
    },
    {
      "cell_type": "code",
      "source": [
        "print(f\"{second=}\")"
      ],
      "metadata": {
        "id": "qlkNIFxCFN6x",
        "colab": {
          "base_uri": "https://localhost:8080/"
        },
        "outputId": "610465a6-01c8-4edc-dd50-2628bdc31350"
      },
      "execution_count": 82,
      "outputs": [
        {
          "output_type": "stream",
          "name": "stdout",
          "text": [
            "second=[1, 2, 3, 4, 5]\n"
          ]
        }
      ]
    }
  ],
  "metadata": {
    "kernelspec": {
      "display_name": "Python 3 (ipykernel)",
      "language": "python",
      "name": "python3"
    },
    "language_info": {
      "codemirror_mode": {
        "name": "ipython",
        "version": 3
      },
      "file_extension": ".py",
      "mimetype": "text/x-python",
      "name": "python",
      "nbconvert_exporter": "python",
      "pygments_lexer": "ipython3",
      "version": "3.11.3"
    },
    "colab": {
      "provenance": [],
      "toc_visible": true
    }
  },
  "nbformat": 4,
  "nbformat_minor": 0
}